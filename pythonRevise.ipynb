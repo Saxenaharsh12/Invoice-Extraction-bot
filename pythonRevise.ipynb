{
  "nbformat": 4,
  "nbformat_minor": 0,
  "metadata": {
    "colab": {
      "provenance": [],
      "authorship_tag": "ABX9TyPZF2zH/7xT0n8DZ2UMYGzc",
      "include_colab_link": true
    },
    "kernelspec": {
      "name": "python3",
      "display_name": "Python 3"
    },
    "language_info": {
      "name": "python"
    }
  },
  "cells": [
    {
      "cell_type": "markdown",
      "metadata": {
        "id": "view-in-github",
        "colab_type": "text"
      },
      "source": [
        "<a href=\"https://colab.research.google.com/github/Saxenaharsh12/Invoice-Extraction-bot/blob/main/pythonRevise.ipynb\" target=\"_parent\"><img src=\"https://colab.research.google.com/assets/colab-badge.svg\" alt=\"Open In Colab\"/></a>"
      ]
    },
    {
      "cell_type": "code",
      "execution_count": null,
      "metadata": {
        "colab": {
          "base_uri": "https://localhost:8080/"
        },
        "id": "jOZAGh7FosUs",
        "outputId": "c099af9e-d9a0-4a65-eb80-71c0e56761f4"
      },
      "outputs": [
        {
          "output_type": "stream",
          "name": "stdout",
          "text": [
            "Kumar\n"
          ]
        }
      ],
      "source": [
        "name = 'Kumar'\n",
        "print(name)"
      ]
    },
    {
      "cell_type": "code",
      "source": [
        "\n",
        "name = 'Kumar'\n",
        "age = 20\n",
        "subject = \"Science\"\n",
        "print(\"my name is \" , name ,\"and my age is\" , age)\n",
        "print(\"i study \" , subject)"
      ],
      "metadata": {
        "colab": {
          "base_uri": "https://localhost:8080/"
        },
        "id": "Qp0xjQqcpKY3",
        "outputId": "97d9800d-5802-46ee-e8a9-f73d3260b849"
      },
      "execution_count": null,
      "outputs": [
        {
          "output_type": "stream",
          "name": "stdout",
          "text": [
            "my name is  Kumar and my age is 20\n",
            "i study  Science\n"
          ]
        }
      ]
    },
    {
      "cell_type": "code",
      "source": [
        "# dictionary - in curley braces\n",
        "result = {\n",
        "    \"Kumar\": 90 ,\n",
        "    \"Bharat\": 95 ,\n",
        "    \"Aman\": 80\n",
        "}\n",
        "print(result)\n",
        " # print marks of kumar-\n",
        "print(result[\"Kumar\"])\n",
        "print(result[\"Bharat\"])\n"
      ],
      "metadata": {
        "colab": {
          "base_uri": "https://localhost:8080/"
        },
        "id": "oi6ny4CCpKjf",
        "outputId": "d245916c-d024-4c7c-a2e0-20f0167081c1"
      },
      "execution_count": null,
      "outputs": [
        {
          "output_type": "stream",
          "name": "stdout",
          "text": [
            "{'Kumar': 90, 'Bharat': 95, 'Aman': 80}\n",
            "90\n",
            "95\n"
          ]
        }
      ]
    },
    {
      "cell_type": "code",
      "source": [
        "bill = 11000\n",
        "if(bill > 1000 and bill < 10000):\n",
        "  print(\"final price is \", bill - bill*0.1)\n",
        "elif(bill > 10000):\n",
        "  print(\"final price is \", bill - bill*0.2)\n",
        "else:\n",
        "  print(\"final price is \", bill)\n"
      ],
      "metadata": {
        "colab": {
          "base_uri": "https://localhost:8080/"
        },
        "id": "nZuVxQVTpKmn",
        "outputId": "b8abd2e0-7c18-4e6d-bb96-5f41271ea26e"
      },
      "execution_count": null,
      "outputs": [
        {
          "output_type": "stream",
          "name": "stdout",
          "text": [
            "final price is  8800.0\n"
          ]
        }
      ]
    },
    {
      "cell_type": "code",
      "source": [
        "num = 20\n",
        "if(num%2==0):\n",
        "    print(\"num is even\")\n",
        "else:\n",
        "    print(\"num is odd\")"
      ],
      "metadata": {
        "id": "FiaVm8PepKxU",
        "colab": {
          "base_uri": "https://localhost:8080/"
        },
        "outputId": "75a4e827-e02e-45e2-b6d5-51b20dfb480a"
      },
      "execution_count": 36,
      "outputs": [
        {
          "output_type": "stream",
          "name": "stdout",
          "text": [
            "num is even\n"
          ]
        }
      ]
    },
    {
      "cell_type": "code",
      "source": [
        "num = 30\n",
        "if(num%3==0 and num%5==0):\n",
        "  print(\"num is mutiple of 3 and 5\")"
      ],
      "metadata": {
        "id": "CqUA1dbbw2Kb",
        "colab": {
          "base_uri": "https://localhost:8080/"
        },
        "outputId": "2e5ccf25-2762-4bbf-974c-674874ba9735"
      },
      "execution_count": 45,
      "outputs": [
        {
          "output_type": "stream",
          "name": "stdout",
          "text": [
            "num is mutiple of 3 and 5\n"
          ]
        }
      ]
    },
    {
      "cell_type": "code",
      "source": [
        "for i in range(11):\n",
        "  if(i%2 == 0 ):\n",
        "\n",
        "     print(i)"
      ],
      "metadata": {
        "id": "q_y9C_Sew2kq",
        "colab": {
          "base_uri": "https://localhost:8080/"
        },
        "outputId": "68ea97f6-6461-4949-b587-2bd1e1301b7a"
      },
      "execution_count": 47,
      "outputs": [
        {
          "output_type": "stream",
          "name": "stdout",
          "text": [
            "0\n",
            "2\n",
            "4\n",
            "6\n",
            "8\n",
            "10\n"
          ]
        }
      ]
    },
    {
      "cell_type": "code",
      "source": [
        "num = [10,15,30,20,25,45]\n",
        "for i in num:\n",
        "  if(i%2 != 0):\n",
        "    print(i)"
      ],
      "metadata": {
        "colab": {
          "base_uri": "https://localhost:8080/"
        },
        "id": "ndJ4rV5D0oH0",
        "outputId": "f1c403c6-c058-4514-8dd2-c2e8d4467b7e"
      },
      "execution_count": 50,
      "outputs": [
        {
          "output_type": "stream",
          "name": "stdout",
          "text": [
            "15\n",
            "25\n",
            "45\n"
          ]
        }
      ]
    },
    {
      "cell_type": "code",
      "source": [
        "list = [\"raj\", 1 , 2 , 3 , \"harsh\"]\n",
        "for i in list:\n",
        "  if(type(i) == str):\n",
        "   print(i)"
      ],
      "metadata": {
        "colab": {
          "base_uri": "https://localhost:8080/"
        },
        "id": "25gYm6w71QGQ",
        "outputId": "a85c930e-9ea6-4518-d2d6-d13790ff58eb"
      },
      "execution_count": 58,
      "outputs": [
        {
          "output_type": "stream",
          "name": "stdout",
          "text": [
            "raj\n",
            "harsh\n"
          ]
        }
      ]
    },
    {
      "cell_type": "code",
      "source": [
        "\n",
        "sum = 0\n",
        "for i in range(11):\n",
        "  sum += i\n",
        "print(sum)"
      ],
      "metadata": {
        "colab": {
          "base_uri": "https://localhost:8080/"
        },
        "id": "-Eq3weaO4WTw",
        "outputId": "5ff93950-cddb-4203-94b0-44c4655f8a97"
      },
      "execution_count": 72,
      "outputs": [
        {
          "output_type": "stream",
          "name": "stdout",
          "text": [
            "55\n"
          ]
        }
      ]
    },
    {
      "cell_type": "code",
      "source": [
        "#print zodiac sign for below date\n",
        "month = 'march'\n",
        "day = 21\n",
        "if(month == 'march' and day >= 21 or month == 'april' and day <= 19):\n",
        "  print(\"aries\")\n"
      ],
      "metadata": {
        "colab": {
          "base_uri": "https://localhost:8080/"
        },
        "id": "ElN6c0Ud5dgi",
        "outputId": "f4d1e543-55ef-4e21-cf83-37da2412a090"
      },
      "execution_count": 1,
      "outputs": [
        {
          "output_type": "stream",
          "name": "stdout",
          "text": [
            "aries\n"
          ]
        }
      ]
    },
    {
      "cell_type": "code",
      "source": [],
      "metadata": {
        "id": "H-iQv3Fd7R9C"
      },
      "execution_count": null,
      "outputs": []
    }
  ]
}